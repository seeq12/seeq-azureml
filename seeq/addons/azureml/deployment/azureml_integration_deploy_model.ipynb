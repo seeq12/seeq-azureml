{
 "cells": [
  {
   "cell_type": "code",
   "execution_count": null,
   "metadata": {
    "collapsed": true
   },
   "outputs": [],
   "source": [
    "import pandas as pd\n",
    "from seeq.addons.azureml import backend\n",
    "from seeq.addons.azureml.utils import AzureMLException\n"
   ]
  },
  {
   "cell_type": "code",
   "execution_count": null,
   "metadata": {
    "pycharm": {
     "name": "#%%\n"
    }
   },
   "outputs": [],
   "source": [
    "interactive_index = 0\n",
    "if spy.jobs._common.running_in_executor():\n",
    "    params = spy.jobs.pull()\n",
    "else:\n",
    "    params = spy.jobs.pull(interactive_index = interactive_index)"
   ]
  },
  {
   "cell_type": "code",
   "execution_count": null,
   "metadata": {
    "pycharm": {
     "name": "#%%\n"
    }
   },
   "outputs": [],
   "source": [
    "end = pd.Timestamp.today()\n",
    "start = end - params.get('Frequency')"
   ]
  },
  {
   "cell_type": "code",
   "execution_count": null,
   "metadata": {
    "pycharm": {
     "name": "#%%\n"
    }
   },
   "outputs": [],
   "source": [
    "deployment = backend.RunInvestigation(input_signals=params.get('Input Signals'),\n",
    "                                      result_name=params.get('Result Name'),\n",
    "                                      az_model_name=params.get('AZ model name'),\n",
    "                                      az_model_version=params.get('AZ model version'),\n",
    "                                      start=start,\n",
    "                                      end=end,\n",
    "                                      grid=params.get('Grid'),\n",
    "                                      workbook=params.get('Workbook'),\n",
    "                                      worksheet=params.get('Worksheet'),\n",
    "                                      endpoint_uri=params.get('Endpoint'),\n",
    "                                      aml_primary_key=params.get('aml_primary_key'),\n",
    "                                      quiet=True)\n",
    "\n",
    "try:\n",
    "    deployment.run()\n",
    "    deployment.push_to_seeq()\n",
    "except AzureMLException as e:\n",
    "    raise e\n",
    "\n"
   ]
  }
 ],
 "metadata": {
  "kernelspec": {
   "display_name": "Python 3 (ipykernel)",
   "language": "python",
   "name": "python3"
  },
  "language_info": {
   "codemirror_mode": {
    "name": "ipython",
    "version": 3
   },
   "file_extension": ".py",
   "mimetype": "text/x-python",
   "name": "python",
   "nbconvert_exporter": "python",
   "pygments_lexer": "ipython3",
   "version": "3.8.8"
  },
  "varInspector": {
   "cols": {
    "lenName": 16,
    "lenType": 16,
    "lenVar": 40
   },
   "kernels_config": {
    "python": {
     "delete_cmd_postfix": "",
     "delete_cmd_prefix": "del ",
     "library": "var_list.py",
     "varRefreshCmd": "print(var_dic_list())"
    },
    "r": {
     "delete_cmd_postfix": ") ",
     "delete_cmd_prefix": "rm(",
     "library": "var_list.r",
     "varRefreshCmd": "cat(var_dic_list()) "
    }
   },
   "types_to_exclude": [
    "module",
    "function",
    "builtin_function_or_method",
    "instance",
    "_Feature"
   ],
   "window_display": false
  }
 },
 "nbformat": 4,
 "nbformat_minor": 1
}
